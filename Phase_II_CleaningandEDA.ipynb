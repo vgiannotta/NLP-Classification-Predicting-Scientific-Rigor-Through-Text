{
 "cells": [
  {
   "cell_type": "markdown",
   "metadata": {},
   "source": [
    "# Phase II: Data Cleaning & EDA\n",
    "\n",
    "The goal of this analysis is to build a model that predicts which Reddit forum a given post comes from, based primarily on the text attributes of each post. To this end, I'll be using the title of each post as the predominant X variable, as this is where the majority of the post's text is located. I also know that my target will be the subreddit column. Beyond this, some investigation is required before going any further. At this stage, I'm looking to answer two questions:\n",
    "\n",
    "- Should any additional features be included in the list of predictors?\n",
    "- To what extent should the text data be cleaned or processed?\n",
    "\n",
    "---"
   ]
  },
  {
   "cell_type": "markdown",
   "metadata": {},
   "source": [
    "### Importing Packages & Libraries:"
   ]
  },
  {
   "cell_type": "code",
   "execution_count": 1,
   "metadata": {},
   "outputs": [],
   "source": [
    "import pandas as pd\n",
    "import numpy as np\n",
    "import seaborn as sns\n",
    "import matplotlib.pyplot as plt\n",
    "%matplotlib inline\n",
    "\n",
    "import nltk\n",
    "from nltk.corpus import stopwords\n",
    "from sklearn.pipeline import Pipeline"
   ]
  },
  {
   "cell_type": "markdown",
   "metadata": {},
   "source": [
    "### Reading in the Data:"
   ]
  },
  {
   "cell_type": "code",
   "execution_count": 2,
   "metadata": {},
   "outputs": [],
   "source": [
    "df = pd.read_csv('./Datasets/Final_Reddit_Dataset.csv')"
   ]
  },
  {
   "cell_type": "markdown",
   "metadata": {},
   "source": [
    "---\n",
    "\n",
    "### Preliminary Exploration:\n",
    "\n",
    "Initial examination of our classes shows that they are well-balanced. Posts from the EverythingScience subreddit are represented in slightly greater quantity than those of the Science subreddit:"
   ]
  },
  {
   "cell_type": "code",
   "execution_count": 3,
   "metadata": {},
   "outputs": [
    {
     "data": {
      "text/plain": [
       "EverythingScience    0.542276\n",
       "science              0.457724\n",
       "Name: subreddit, dtype: float64"
      ]
     },
     "execution_count": 3,
     "metadata": {},
     "output_type": "execute_result"
    }
   ],
   "source": [
    "df['subreddit'].value_counts(normalize=True)"
   ]
  },
  {
   "cell_type": "code",
   "execution_count": 21,
   "metadata": {},
   "outputs": [
    {
     "name": "stderr",
     "output_type": "stream",
     "text": [
      "/anaconda3/lib/python3.6/site-packages/scipy/stats/stats.py:1713: FutureWarning: Using a non-tuple sequence for multidimensional indexing is deprecated; use `arr[tuple(seq)]` instead of `arr[seq]`. In the future this will be interpreted as an array index, `arr[np.array(seq)]`, which will result either in an error or a different result.\n",
      "  return np.add.reduce(sorted[indexer] * weights, axis=axis) / sumval\n"
     ]
    },
    {
     "data": {
      "image/png": "[encoded data removed]",
      "text/plain": [
       "<Figure size 720x576 with 1 Axes>"
      ]
     },
     "metadata": {},
     "output_type": "display_data"
    }
   ],
   "source": [
    "sns.set_color_codes(\"deep\")\n",
    "plt.figure(figsize=(10, 8))\n",
    "sns.distplot(df['subreddit'].replace({'science': 1, 'EverythingScience': 2}), kde_kws={\"color\": \"g\", \"lw\": 3, \"label\": \"KDE\"},\n",
    "                              hist_kws={\"alpha\": 1, \"color\": \"b\"})\n",
    "plt.title(\"Subreddit Distribution\", fontsize=20);"
   ]
  },
  {
   "cell_type": "markdown",
   "metadata": {},
   "source": [
    "We get a lot of data points for each post, the majority of which is either HTML tags concerning post layout, webpage metrics, and user/author details. Many of these columns are null, and many of the non-null columns are not useful for our particular line of inquiry:"
   ]
  },
  {
   "cell_type": "code",
   "execution_count": 4,
   "metadata": {},
   "outputs": [
    {
     "data": {
      "text/plain": [
       "Index(['approved_at_utc', 'approved_by', 'archived', 'author',\n",
       "       'author_cakeday', 'author_flair_background_color',\n",
       "       'author_flair_css_class', 'author_flair_richtext',\n",
       "       'author_flair_template_id', 'author_flair_text',\n",
       "       ...\n",
       "       'thumbnail_height', 'thumbnail_width', 'title', 'ups', 'url',\n",
       "       'user_reports', 'view_count', 'visited', 'whitelist_status', 'wls'],\n",
       "      dtype='object', length=102)"
      ]
     },
     "execution_count": 4,
     "metadata": {},
     "output_type": "execute_result"
    }
   ],
   "source": [
    "df.columns"
   ]
  },
  {
   "cell_type": "code",
   "execution_count": 5,
   "metadata": {},
   "outputs": [
    {
     "data": {
      "text/html": [
       "<div>\n",
       "<style scoped>\n",
       "    .dataframe tbody tr th:only-of-type {\n",
       "        vertical-align: middle;\n",
       "    }\n",
       "\n",
       "    .dataframe tbody tr th {\n",
       "        vertical-align: top;\n",
       "    }\n",
       "\n",
       "    .dataframe thead th {\n",
       "        text-align: right;\n",
       "    }\n",
       "</style>\n",
       "<table border=\"1\" class=\"dataframe\">\n",
       "  <thead>\n",
       "    <tr style=\"text-align: right;\">\n",
       "      <th></th>\n",
       "      <th>approved_at_utc</th>\n",
       "      <th>approved_by</th>\n",
       "      <th>archived</th>\n",
       "      <th>author</th>\n",
       "      <th>author_cakeday</th>\n",
       "      <th>author_flair_background_color</th>\n",
       "      <th>author_flair_css_class</th>\n",
       "      <th>author_flair_richtext</th>\n",
       "      <th>author_flair_template_id</th>\n",
       "      <th>author_flair_text</th>\n",
       "      <th>...</th>\n",
       "      <th>thumbnail_height</th>\n",
       "      <th>thumbnail_width</th>\n",
       "      <th>title</th>\n",
       "      <th>ups</th>\n",
       "      <th>url</th>\n",
       "      <th>user_reports</th>\n",
       "      <th>view_count</th>\n",
       "      <th>visited</th>\n",
       "      <th>whitelist_status</th>\n",
       "      <th>wls</th>\n",
       "    </tr>\n",
       "  </thead>\n",
       "  <tbody>\n",
       "    <tr>\n",
       "      <th>0</th>\n",
       "      <td>NaN</td>\n",
       "      <td>NaN</td>\n",
       "      <td>False</td>\n",
       "      <td>neutronfish</td>\n",
       "      <td>NaN</td>\n",
       "      <td>NaN</td>\n",
       "      <td>NaN</td>\n",
       "      <td>[]</td>\n",
       "      <td>NaN</td>\n",
       "      <td>NaN</td>\n",
       "      <td>...</td>\n",
       "      <td>78.0</td>\n",
       "      <td>140.0</td>\n",
       "      <td>Scientists and bureaucrats are really, really ...</td>\n",
       "      <td>274</td>\n",
       "      <td>https://worldofweirdthings.com/2018/10/03/the-...</td>\n",
       "      <td>[]</td>\n",
       "      <td>NaN</td>\n",
       "      <td>False</td>\n",
       "      <td>all_ads</td>\n",
       "      <td>6</td>\n",
       "    </tr>\n",
       "    <tr>\n",
       "      <th>1</th>\n",
       "      <td>NaN</td>\n",
       "      <td>NaN</td>\n",
       "      <td>False</td>\n",
       "      <td>mvea</td>\n",
       "      <td>NaN</td>\n",
       "      <td>NaN</td>\n",
       "      <td>med   reward3</td>\n",
       "      <td>[]</td>\n",
       "      <td>NaN</td>\n",
       "      <td>MD-PhD-MBA | Clinical Professor/Medicine</td>\n",
       "      <td>...</td>\n",
       "      <td>140.0</td>\n",
       "      <td>140.0</td>\n",
       "      <td>School Boots Professor Off Campus After He Exp...</td>\n",
       "      <td>1217</td>\n",
       "      <td>https://www.techdirt.com/articles/20181209/145...</td>\n",
       "      <td>[]</td>\n",
       "      <td>NaN</td>\n",
       "      <td>False</td>\n",
       "      <td>all_ads</td>\n",
       "      <td>6</td>\n",
       "    </tr>\n",
       "    <tr>\n",
       "      <th>2</th>\n",
       "      <td>NaN</td>\n",
       "      <td>NaN</td>\n",
       "      <td>False</td>\n",
       "      <td>KnowableMag</td>\n",
       "      <td>NaN</td>\n",
       "      <td>NaN</td>\n",
       "      <td>NaN</td>\n",
       "      <td>[]</td>\n",
       "      <td>NaN</td>\n",
       "      <td>NaN</td>\n",
       "      <td>...</td>\n",
       "      <td>74.0</td>\n",
       "      <td>140.0</td>\n",
       "      <td>A gut-brain link for Parkinson’s gets a closer...</td>\n",
       "      <td>74</td>\n",
       "      <td>https://www.sciencenews.org/article/parkinsons...</td>\n",
       "      <td>[]</td>\n",
       "      <td>NaN</td>\n",
       "      <td>False</td>\n",
       "      <td>all_ads</td>\n",
       "      <td>6</td>\n",
       "    </tr>\n",
       "    <tr>\n",
       "      <th>3</th>\n",
       "      <td>NaN</td>\n",
       "      <td>NaN</td>\n",
       "      <td>False</td>\n",
       "      <td>BlankVerse</td>\n",
       "      <td>NaN</td>\n",
       "      <td>NaN</td>\n",
       "      <td>NaN</td>\n",
       "      <td>[]</td>\n",
       "      <td>NaN</td>\n",
       "      <td>NaN</td>\n",
       "      <td>...</td>\n",
       "      <td>73.0</td>\n",
       "      <td>140.0</td>\n",
       "      <td>The untold story of how India's sex workers pr...</td>\n",
       "      <td>41</td>\n",
       "      <td>https://www.theguardian.com/global-development...</td>\n",
       "      <td>[]</td>\n",
       "      <td>NaN</td>\n",
       "      <td>False</td>\n",
       "      <td>all_ads</td>\n",
       "      <td>6</td>\n",
       "    </tr>\n",
       "    <tr>\n",
       "      <th>4</th>\n",
       "      <td>NaN</td>\n",
       "      <td>NaN</td>\n",
       "      <td>False</td>\n",
       "      <td>clayt6</td>\n",
       "      <td>NaN</td>\n",
       "      <td>NaN</td>\n",
       "      <td>NaN</td>\n",
       "      <td>[]</td>\n",
       "      <td>NaN</td>\n",
       "      <td>NaN</td>\n",
       "      <td>...</td>\n",
       "      <td>93.0</td>\n",
       "      <td>140.0</td>\n",
       "      <td>Satellite images of penguin poop-stains in Ant...</td>\n",
       "      <td>129</td>\n",
       "      <td>http://www.astronomy.com/news/2018/12/penguin-...</td>\n",
       "      <td>[]</td>\n",
       "      <td>NaN</td>\n",
       "      <td>False</td>\n",
       "      <td>all_ads</td>\n",
       "      <td>6</td>\n",
       "    </tr>\n",
       "  </tbody>\n",
       "</table>\n",
       "<p>5 rows × 102 columns</p>\n",
       "</div>"
      ],
      "text/plain": [
       "   approved_at_utc  approved_by  archived       author author_cakeday  \\\n",
       "0              NaN          NaN     False  neutronfish            NaN   \n",
       "1              NaN          NaN     False         mvea            NaN   \n",
       "2              NaN          NaN     False  KnowableMag            NaN   \n",
       "3              NaN          NaN     False   BlankVerse            NaN   \n",
       "4              NaN          NaN     False       clayt6            NaN   \n",
       "\n",
       "   author_flair_background_color author_flair_css_class author_flair_richtext  \\\n",
       "0                            NaN                    NaN                    []   \n",
       "1                            NaN          med   reward3                    []   \n",
       "2                            NaN                    NaN                    []   \n",
       "3                            NaN                    NaN                    []   \n",
       "4                            NaN                    NaN                    []   \n",
       "\n",
       "   author_flair_template_id                         author_flair_text ...   \\\n",
       "0                       NaN                                       NaN ...    \n",
       "1                       NaN  MD-PhD-MBA | Clinical Professor/Medicine ...    \n",
       "2                       NaN                                       NaN ...    \n",
       "3                       NaN                                       NaN ...    \n",
       "4                       NaN                                       NaN ...    \n",
       "\n",
       "  thumbnail_height thumbnail_width  \\\n",
       "0             78.0           140.0   \n",
       "1            140.0           140.0   \n",
       "2             74.0           140.0   \n",
       "3             73.0           140.0   \n",
       "4             93.0           140.0   \n",
       "\n",
       "                                               title   ups  \\\n",
       "0  Scientists and bureaucrats are really, really ...   274   \n",
       "1  School Boots Professor Off Campus After He Exp...  1217   \n",
       "2  A gut-brain link for Parkinson’s gets a closer...    74   \n",
       "3  The untold story of how India's sex workers pr...    41   \n",
       "4  Satellite images of penguin poop-stains in Ant...   129   \n",
       "\n",
       "                                                 url  user_reports  \\\n",
       "0  https://worldofweirdthings.com/2018/10/03/the-...            []   \n",
       "1  https://www.techdirt.com/articles/20181209/145...            []   \n",
       "2  https://www.sciencenews.org/article/parkinsons...            []   \n",
       "3  https://www.theguardian.com/global-development...            []   \n",
       "4  http://www.astronomy.com/news/2018/12/penguin-...            []   \n",
       "\n",
       "   view_count  visited  whitelist_status  wls  \n",
       "0         NaN    False           all_ads    6  \n",
       "1         NaN    False           all_ads    6  \n",
       "2         NaN    False           all_ads    6  \n",
       "3         NaN    False           all_ads    6  \n",
       "4         NaN    False           all_ads    6  \n",
       "\n",
       "[5 rows x 102 columns]"
      ]
     },
     "execution_count": 5,
     "metadata": {},
     "output_type": "execute_result"
    }
   ],
   "source": [
    "df.head()"
   ]
  },
  {
   "cell_type": "markdown",
   "metadata": {},
   "source": [
    "---\n",
    "\n",
    "### Dealing with the Nulls:\n",
    "\n",
    "Since the majority of the columns with null values were completely null, and the columns containing relatively few nulls were not informative or helpful to our inquiry, I decided to drop these columns completely. Of the columns that remained, I hand-picked the ones that I thought could potentially be useful for modeling. "
   ]
  },
  {
   "cell_type": "code",
   "execution_count": 6,
   "metadata": {},
   "outputs": [
    {
     "data": {
      "text/plain": [
       "approved_at_utc                  1916\n",
       "approved_by                      1916\n",
       "author_cakeday                   1915\n",
       "author_flair_background_color    1916\n",
       "author_flair_css_class           1466\n",
       "author_flair_richtext               3\n",
       "author_flair_template_id         1916\n",
       "author_flair_text                1620\n",
       "author_flair_text_color          1463\n",
       "author_flair_type                   3\n",
       "author_fullname                     3\n",
       "author_patreon_flair                3\n",
       "banned_at_utc                    1916\n",
       "banned_by                        1916\n",
       "category                         1916\n",
       "content_categories               1916\n",
       "crosspost_parent                 1916\n",
       "crosspost_parent_list            1916\n",
       "distinguished                    1916\n",
       "event_end                        1915\n",
       "event_is_live                    1915\n",
       "event_start                      1915\n",
       "likes                            1916\n",
       "link_flair_background_color      1057\n",
       "link_flair_css_class              209\n",
       "link_flair_template_id            223\n",
       "link_flair_text                   206\n",
       "media                            1916\n",
       "mod_note                         1916\n",
       "mod_reason_by                    1916\n",
       "mod_reason_title                 1916\n",
       "num_reports                      1916\n",
       "post_hint                         174\n",
       "preview                           174\n",
       "removal_reason                   1916\n",
       "report_reasons                   1916\n",
       "secure_media                     1916\n",
       "selftext                         1912\n",
       "selftext_html                    1912\n",
       "suggested_sort                   1039\n",
       "thumbnail_height                  178\n",
       "thumbnail_width                   178\n",
       "view_count                       1916\n",
       "dtype: int64"
      ]
     },
     "execution_count": 6,
     "metadata": {},
     "output_type": "execute_result"
    }
   ],
   "source": [
    "df.isnull().sum()[df.isnull().sum() > 0]"
   ]
  },
  {
   "cell_type": "code",
   "execution_count": 7,
   "metadata": {},
   "outputs": [
    {
     "data": {
      "text/plain": [
       "Index(['archived', 'author', 'can_gild', 'can_mod_post', 'clicked',\n",
       "       'contest_mode', 'created', 'created_utc', 'domain', 'downs', 'edited',\n",
       "       'gilded', 'gildings', 'hidden', 'hide_score', 'id', 'is_crosspostable',\n",
       "       'is_meta', 'is_original_content', 'is_reddit_media_domain',\n",
       "       'is_robot_indexable', 'is_self', 'is_video', 'link_flair_richtext',\n",
       "       'link_flair_text_color', 'link_flair_type', 'locked', 'media_embed',\n",
       "       'media_only', 'mod_reports', 'name', 'no_follow', 'num_comments',\n",
       "       'num_crossposts', 'over_18', 'parent_whitelist_status', 'permalink',\n",
       "       'pinned', 'pwls', 'quarantine', 'saved', 'score', 'secure_media_embed',\n",
       "       'send_replies', 'spoiler', 'stickied', 'subreddit', 'subreddit_id',\n",
       "       'subreddit_name_prefixed', 'subreddit_subscribers', 'subreddit_type',\n",
       "       'thumbnail', 'title', 'ups', 'url', 'user_reports', 'visited',\n",
       "       'whitelist_status', 'wls'],\n",
       "      dtype='object')"
      ]
     },
     "execution_count": 7,
     "metadata": {},
     "output_type": "execute_result"
    }
   ],
   "source": [
    "df.columns[df.isnull().sum() == 0]"
   ]
  },
  {
   "cell_type": "code",
   "execution_count": 14,
   "metadata": {},
   "outputs": [
    {
     "data": {
      "text/html": [
       "<div>\n",
       "<style scoped>\n",
       "    .dataframe tbody tr th:only-of-type {\n",
       "        vertical-align: middle;\n",
       "    }\n",
       "\n",
       "    .dataframe tbody tr th {\n",
       "        vertical-align: top;\n",
       "    }\n",
       "\n",
       "    .dataframe thead th {\n",
       "        text-align: right;\n",
       "    }\n",
       "</style>\n",
       "<table border=\"1\" class=\"dataframe\">\n",
       "  <thead>\n",
       "    <tr style=\"text-align: right;\">\n",
       "      <th></th>\n",
       "      <th>author</th>\n",
       "      <th>domain</th>\n",
       "      <th>num_comments</th>\n",
       "      <th>title</th>\n",
       "      <th>subreddit</th>\n",
       "      <th>url</th>\n",
       "    </tr>\n",
       "  </thead>\n",
       "  <tbody>\n",
       "    <tr>\n",
       "      <th>0</th>\n",
       "      <td>neutronfish</td>\n",
       "      <td>worldofweirdthings.com</td>\n",
       "      <td>7</td>\n",
       "      <td>Scientists and bureaucrats are really, really ...</td>\n",
       "      <td>EverythingScience</td>\n",
       "      <td>https://worldofweirdthings.com/2018/10/03/the-...</td>\n",
       "    </tr>\n",
       "    <tr>\n",
       "      <th>1</th>\n",
       "      <td>mvea</td>\n",
       "      <td>techdirt.com</td>\n",
       "      <td>43</td>\n",
       "      <td>School Boots Professor Off Campus After He Exp...</td>\n",
       "      <td>EverythingScience</td>\n",
       "      <td>https://www.techdirt.com/articles/20181209/145...</td>\n",
       "    </tr>\n",
       "    <tr>\n",
       "      <th>2</th>\n",
       "      <td>KnowableMag</td>\n",
       "      <td>sciencenews.org</td>\n",
       "      <td>4</td>\n",
       "      <td>A gut-brain link for Parkinson’s gets a closer...</td>\n",
       "      <td>EverythingScience</td>\n",
       "      <td>https://www.sciencenews.org/article/parkinsons...</td>\n",
       "    </tr>\n",
       "    <tr>\n",
       "      <th>3</th>\n",
       "      <td>BlankVerse</td>\n",
       "      <td>theguardian.com</td>\n",
       "      <td>0</td>\n",
       "      <td>The untold story of how India's sex workers pr...</td>\n",
       "      <td>EverythingScience</td>\n",
       "      <td>https://www.theguardian.com/global-development...</td>\n",
       "    </tr>\n",
       "    <tr>\n",
       "      <th>4</th>\n",
       "      <td>clayt6</td>\n",
       "      <td>astronomy.com</td>\n",
       "      <td>2</td>\n",
       "      <td>Satellite images of penguin poop-stains in Ant...</td>\n",
       "      <td>EverythingScience</td>\n",
       "      <td>http://www.astronomy.com/news/2018/12/penguin-...</td>\n",
       "    </tr>\n",
       "  </tbody>\n",
       "</table>\n",
       "</div>"
      ],
      "text/plain": [
       "        author                  domain  num_comments  \\\n",
       "0  neutronfish  worldofweirdthings.com             7   \n",
       "1         mvea            techdirt.com            43   \n",
       "2  KnowableMag         sciencenews.org             4   \n",
       "3   BlankVerse         theguardian.com             0   \n",
       "4       clayt6           astronomy.com             2   \n",
       "\n",
       "                                               title          subreddit  \\\n",
       "0  Scientists and bureaucrats are really, really ...  EverythingScience   \n",
       "1  School Boots Professor Off Campus After He Exp...  EverythingScience   \n",
       "2  A gut-brain link for Parkinson’s gets a closer...  EverythingScience   \n",
       "3  The untold story of how India's sex workers pr...  EverythingScience   \n",
       "4  Satellite images of penguin poop-stains in Ant...  EverythingScience   \n",
       "\n",
       "                                                 url  \n",
       "0  https://worldofweirdthings.com/2018/10/03/the-...  \n",
       "1  https://www.techdirt.com/articles/20181209/145...  \n",
       "2  https://www.sciencenews.org/article/parkinsons...  \n",
       "3  https://www.theguardian.com/global-development...  \n",
       "4  http://www.astronomy.com/news/2018/12/penguin-...  "
      ]
     },
     "execution_count": 14,
     "metadata": {},
     "output_type": "execute_result"
    }
   ],
   "source": [
    "df = df[['author', 'domain', 'num_comments', 'title', 'subreddit', 'url']]\n",
    "      \n",
    "df.head()"
   ]
  },
  {
   "cell_type": "markdown",
   "metadata": {},
   "source": [
    "---\n",
    "\n",
    "### Column Transformations\n",
    "\n",
    "First things first - since the 'subreddit' column will be the target, it should be transformed into binary values. I called this **'subreddit_class'**. From here, I created the **'word_count'** and **'num_stopwords'** column to get a sense of the makeup of words in each document. I decided against removing stopwords, punctuation, and uppercase characters, and against tokenizing and lemmatizing, at least for now. Since these operations are all tunable parameters within the TF-IDF and Count Vectorizers, I will address them during the modeling phase which will allow for some experimentation with these parameters."
   ]
  },
  {
   "cell_type": "code",
   "execution_count": 9,
   "metadata": {},
   "outputs": [],
   "source": [
    "df['subreddit_class'] = df['subreddit'].map({'EverythingScience': 0, 'science': 1})"
   ]
  },
  {
   "cell_type": "code",
   "execution_count": 10,
   "metadata": {},
   "outputs": [
    {
     "data": {
      "text/html": [
       "<div>\n",
       "<style scoped>\n",
       "    .dataframe tbody tr th:only-of-type {\n",
       "        vertical-align: middle;\n",
       "    }\n",
       "\n",
       "    .dataframe tbody tr th {\n",
       "        vertical-align: top;\n",
       "    }\n",
       "\n",
       "    .dataframe thead th {\n",
       "        text-align: right;\n",
       "    }\n",
       "</style>\n",
       "<table border=\"1\" class=\"dataframe\">\n",
       "  <thead>\n",
       "    <tr style=\"text-align: right;\">\n",
       "      <th></th>\n",
       "      <th>author</th>\n",
       "      <th>domain</th>\n",
       "      <th>num_comments</th>\n",
       "      <th>title</th>\n",
       "      <th>subreddit</th>\n",
       "      <th>url</th>\n",
       "      <th>subreddit_class</th>\n",
       "    </tr>\n",
       "  </thead>\n",
       "  <tbody>\n",
       "    <tr>\n",
       "      <th>0</th>\n",
       "      <td>neutronfish</td>\n",
       "      <td>worldofweirdthings.com</td>\n",
       "      <td>7</td>\n",
       "      <td>Scientists and bureaucrats are really, really ...</td>\n",
       "      <td>EverythingScience</td>\n",
       "      <td>https://worldofweirdthings.com/2018/10/03/the-...</td>\n",
       "      <td>0</td>\n",
       "    </tr>\n",
       "    <tr>\n",
       "      <th>1</th>\n",
       "      <td>mvea</td>\n",
       "      <td>techdirt.com</td>\n",
       "      <td>43</td>\n",
       "      <td>School Boots Professor Off Campus After He Exp...</td>\n",
       "      <td>EverythingScience</td>\n",
       "      <td>https://www.techdirt.com/articles/20181209/145...</td>\n",
       "      <td>0</td>\n",
       "    </tr>\n",
       "    <tr>\n",
       "      <th>2</th>\n",
       "      <td>KnowableMag</td>\n",
       "      <td>sciencenews.org</td>\n",
       "      <td>4</td>\n",
       "      <td>A gut-brain link for Parkinson’s gets a closer...</td>\n",
       "      <td>EverythingScience</td>\n",
       "      <td>https://www.sciencenews.org/article/parkinsons...</td>\n",
       "      <td>0</td>\n",
       "    </tr>\n",
       "  </tbody>\n",
       "</table>\n",
       "</div>"
      ],
      "text/plain": [
       "        author                  domain  num_comments  \\\n",
       "0  neutronfish  worldofweirdthings.com             7   \n",
       "1         mvea            techdirt.com            43   \n",
       "2  KnowableMag         sciencenews.org             4   \n",
       "\n",
       "                                               title          subreddit  \\\n",
       "0  Scientists and bureaucrats are really, really ...  EverythingScience   \n",
       "1  School Boots Professor Off Campus After He Exp...  EverythingScience   \n",
       "2  A gut-brain link for Parkinson’s gets a closer...  EverythingScience   \n",
       "\n",
       "                                                 url  subreddit_class  \n",
       "0  https://worldofweirdthings.com/2018/10/03/the-...                0  \n",
       "1  https://www.techdirt.com/articles/20181209/145...                0  \n",
       "2  https://www.sciencenews.org/article/parkinsons...                0  "
      ]
     },
     "execution_count": 10,
     "metadata": {},
     "output_type": "execute_result"
    }
   ],
   "source": [
    "df.head(3)"
   ]
  },
  {
   "cell_type": "code",
   "execution_count": 11,
   "metadata": {},
   "outputs": [
    {
     "data": {
      "text/plain": [
       "0    26\n",
       "1    14\n",
       "2    20\n",
       "Name: word_count, dtype: int64"
      ]
     },
     "execution_count": 11,
     "metadata": {},
     "output_type": "execute_result"
    }
   ],
   "source": [
    "df['word_count'] = df['title'].apply(lambda x: len(str(x).split(\" \")))\n",
    "df['word_count'][:3]"
   ]
  },
  {
   "cell_type": "code",
   "execution_count": 12,
   "metadata": {},
   "outputs": [
    {
     "data": {
      "text/html": [
       "<div>\n",
       "<style scoped>\n",
       "    .dataframe tbody tr th:only-of-type {\n",
       "        vertical-align: middle;\n",
       "    }\n",
       "\n",
       "    .dataframe tbody tr th {\n",
       "        vertical-align: top;\n",
       "    }\n",
       "\n",
       "    .dataframe thead th {\n",
       "        text-align: right;\n",
       "    }\n",
       "</style>\n",
       "<table border=\"1\" class=\"dataframe\">\n",
       "  <thead>\n",
       "    <tr style=\"text-align: right;\">\n",
       "      <th></th>\n",
       "      <th>0</th>\n",
       "      <th>1</th>\n",
       "      <th>2</th>\n",
       "    </tr>\n",
       "  </thead>\n",
       "  <tbody>\n",
       "    <tr>\n",
       "      <th>author</th>\n",
       "      <td>neutronfish</td>\n",
       "      <td>mvea</td>\n",
       "      <td>KnowableMag</td>\n",
       "    </tr>\n",
       "    <tr>\n",
       "      <th>domain</th>\n",
       "      <td>worldofweirdthings.com</td>\n",
       "      <td>techdirt.com</td>\n",
       "      <td>sciencenews.org</td>\n",
       "    </tr>\n",
       "    <tr>\n",
       "      <th>num_comments</th>\n",
       "      <td>7</td>\n",
       "      <td>43</td>\n",
       "      <td>4</td>\n",
       "    </tr>\n",
       "    <tr>\n",
       "      <th>title</th>\n",
       "      <td>Scientists and bureaucrats are really, really ...</td>\n",
       "      <td>School Boots Professor Off Campus After He Exp...</td>\n",
       "      <td>A gut-brain link for Parkinson’s gets a closer...</td>\n",
       "    </tr>\n",
       "    <tr>\n",
       "      <th>subreddit</th>\n",
       "      <td>EverythingScience</td>\n",
       "      <td>EverythingScience</td>\n",
       "      <td>EverythingScience</td>\n",
       "    </tr>\n",
       "    <tr>\n",
       "      <th>url</th>\n",
       "      <td>https://worldofweirdthings.com/2018/10/03/the-...</td>\n",
       "      <td>https://www.techdirt.com/articles/20181209/145...</td>\n",
       "      <td>https://www.sciencenews.org/article/parkinsons...</td>\n",
       "    </tr>\n",
       "    <tr>\n",
       "      <th>subreddit_class</th>\n",
       "      <td>0</td>\n",
       "      <td>0</td>\n",
       "      <td>0</td>\n",
       "    </tr>\n",
       "    <tr>\n",
       "      <th>word_count</th>\n",
       "      <td>26</td>\n",
       "      <td>14</td>\n",
       "      <td>20</td>\n",
       "    </tr>\n",
       "    <tr>\n",
       "      <th>num_stopwords</th>\n",
       "      <td>7</td>\n",
       "      <td>0</td>\n",
       "      <td>5</td>\n",
       "    </tr>\n",
       "  </tbody>\n",
       "</table>\n",
       "</div>"
      ],
      "text/plain": [
       "                                                                 0  \\\n",
       "author                                                 neutronfish   \n",
       "domain                                      worldofweirdthings.com   \n",
       "num_comments                                                     7   \n",
       "title            Scientists and bureaucrats are really, really ...   \n",
       "subreddit                                        EverythingScience   \n",
       "url              https://worldofweirdthings.com/2018/10/03/the-...   \n",
       "subreddit_class                                                  0   \n",
       "word_count                                                      26   \n",
       "num_stopwords                                                    7   \n",
       "\n",
       "                                                                 1  \\\n",
       "author                                                        mvea   \n",
       "domain                                                techdirt.com   \n",
       "num_comments                                                    43   \n",
       "title            School Boots Professor Off Campus After He Exp...   \n",
       "subreddit                                        EverythingScience   \n",
       "url              https://www.techdirt.com/articles/20181209/145...   \n",
       "subreddit_class                                                  0   \n",
       "word_count                                                      14   \n",
       "num_stopwords                                                    0   \n",
       "\n",
       "                                                                 2  \n",
       "author                                                 KnowableMag  \n",
       "domain                                             sciencenews.org  \n",
       "num_comments                                                     4  \n",
       "title            A gut-brain link for Parkinson’s gets a closer...  \n",
       "subreddit                                        EverythingScience  \n",
       "url              https://www.sciencenews.org/article/parkinsons...  \n",
       "subreddit_class                                                  0  \n",
       "word_count                                                      20  \n",
       "num_stopwords                                                    5  "
      ]
     },
     "execution_count": 12,
     "metadata": {},
     "output_type": "execute_result"
    }
   ],
   "source": [
    "stopwords = stopwords.words('english')\n",
    "df['num_stopwords'] = df['title'].apply((lambda x: len([x for x in x.split() if x in stopwords])))\n",
    "df.head(3).T"
   ]
  },
  {
   "cell_type": "code",
   "execution_count": null,
   "metadata": {},
   "outputs": [],
   "source": [
    "#df.to_csv('./Datasets/Final_Reddit_Dataset_CLEAN.csv', index=False)"
   ]
  },
  {
   "cell_type": "code",
   "execution_count": null,
   "metadata": {},
   "outputs": [],
   "source": []
  }
 ],
 "metadata": {
  "kernelspec": {
   "display_name": "Python 3",
   "language": "python",
   "name": "python3"
  },
  "language_info": {
   "codemirror_mode": {
    "name": "ipython",
    "version": 3
   },
   "file_extension": ".py",
   "mimetype": "text/x-python",
   "name": "python",
   "nbconvert_exporter": "python",
   "pygments_lexer": "ipython3",
   "version": "3.6.5"
  }
 },
 "nbformat": 4,
 "nbformat_minor": 2
}
